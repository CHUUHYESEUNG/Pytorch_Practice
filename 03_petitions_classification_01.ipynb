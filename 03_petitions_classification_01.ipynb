{
  "nbformat": 4,
  "nbformat_minor": 0,
  "metadata": {
    "colab": {
      "name": "03_petitions_classification_01.ipynb",
      "provenance": [],
      "authorship_tag": "ABX9TyOUO01+qE7fGYgL7/xaVxKK"
    },
    "kernelspec": {
      "name": "python3",
      "display_name": "Python 3"
    },
    "language_info": {
      "name": "python"
    },
    "accelerator": "GPU"
  },
  "cells": [
    {
      "cell_type": "markdown",
      "source": [
        "## 국민청원 글 크롤링 및 데이터 가져오기"
      ],
      "metadata": {
        "id": "1xp-oqvzrC9M"
      }
    },
    {
      "cell_type": "code",
      "execution_count": 1,
      "metadata": {
        "colab": {
          "base_uri": "https://localhost:8080/",
          "height": 486
        },
        "id": "rgEJ_z_SpqAg",
        "outputId": "acd1ad2e-ca4c-4d43-e7b3-4cf8b0d3c761"
      },
      "outputs": [
        {
          "output_type": "stream",
          "name": "stdout",
          "text": [
            "Sleep 90seconds. Count:584280,  Local Time:2022-02-08 23:24:53,  Data Length:7\n",
            "Sleep 90seconds. Count:584340,  Local Time:2022-02-08 23:26:47,  Data Length:66\n",
            "Sleep 90seconds. Count:584400,  Local Time:2022-02-08 23:28:22,  Data Length:66\n",
            "Sleep 90seconds. Count:584460,  Local Time:2022-02-08 23:29:57,  Data Length:66\n",
            "Sleep 90seconds. Count:584520,  Local Time:2022-02-08 23:31:33,  Data Length:66\n",
            "Sleep 90seconds. Count:584580,  Local Time:2022-02-08 23:33:29,  Data Length:126\n",
            "Sleep 90seconds. Count:584640,  Local Time:2022-02-08 23:35:04,  Data Length:126\n",
            "Sleep 90seconds. Count:584700,  Local Time:2022-02-08 23:37:02,  Data Length:186\n",
            "Sleep 90seconds. Count:584760,  Local Time:2022-02-08 23:38:57,  Data Length:246\n",
            "Sleep 90seconds. Count:584820,  Local Time:2022-02-08 23:40:32,  Data Length:247\n",
            "Sleep 90seconds. Count:584880,  Local Time:2022-02-08 23:42:27,  Data Length:307\n",
            "Sleep 90seconds. Count:584940,  Local Time:2022-02-08 23:44:07,  Data Length:319\n",
            "Sleep 90seconds. Count:585000,  Local Time:2022-02-08 23:45:41,  Data Length:319\n",
            "Sleep 90seconds. Count:585060,  Local Time:2022-02-08 23:47:36,  Data Length:378\n",
            "Sleep 90seconds. Count:585120,  Local Time:2022-02-08 23:49:31,  Data Length:438\n"
          ]
        },
        {
          "output_type": "error",
          "ename": "KeyboardInterrupt",
          "evalue": "ignored",
          "traceback": [
            "\u001b[0;31m---------------------------------------------------------------------------\u001b[0m",
            "\u001b[0;31mKeyboardInterrupt\u001b[0m                         Traceback (most recent call last)",
            "\u001b[0;32m<ipython-input-1-9f423ce406eb>\u001b[0m in \u001b[0;36m<module>\u001b[0;34m()\u001b[0m\n\u001b[1;32m     42\u001b[0m               \u001b[0;34m+\u001b[0m\u001b[0;34m\" \"\u001b[0m\u001b[0;34m+\u001b[0m \u001b[0mtime\u001b[0m\u001b[0;34m.\u001b[0m\u001b[0mstrftime\u001b[0m\u001b[0;34m(\u001b[0m\u001b[0;34m'%X'\u001b[0m\u001b[0;34m,\u001b[0m \u001b[0mtime\u001b[0m\u001b[0;34m.\u001b[0m\u001b[0mlocaltime\u001b[0m\u001b[0;34m(\u001b[0m\u001b[0mtime\u001b[0m\u001b[0;34m.\u001b[0m\u001b[0mtime\u001b[0m\u001b[0;34m(\u001b[0m\u001b[0;34m)\u001b[0m\u001b[0;34m)\u001b[0m\u001b[0;34m)\u001b[0m\u001b[0;34m\u001b[0m\u001b[0;34m\u001b[0m\u001b[0m\n\u001b[1;32m     43\u001b[0m               +\",  Data Length:\"+ str(len(result)))        \n\u001b[0;32m---> 44\u001b[0;31m         \u001b[0mtime\u001b[0m\u001b[0;34m.\u001b[0m\u001b[0msleep\u001b[0m\u001b[0;34m(\u001b[0m\u001b[0;36m90\u001b[0m\u001b[0;34m)\u001b[0m\u001b[0;34m\u001b[0m\u001b[0;34m\u001b[0m\u001b[0m\n\u001b[0m",
            "\u001b[0;31mKeyboardInterrupt\u001b[0m: "
          ]
        }
      ],
      "source": [
        "import pandas as pd\n",
        "import numpy as np\n",
        "import requests\n",
        "from bs4 import BeautifulSoup \n",
        "import time\n",
        "\n",
        "\n",
        "result = pd.DataFrame()                                    \n",
        "\n",
        "for i in range(584274, 595226):\n",
        "    URL = \"http://www1.president.go.kr/petitions/\"+str(i)\n",
        " \n",
        "    response = requests.get(URL)    \n",
        "    html = response.text                                   \n",
        "    soup = BeautifulSoup(html, 'html.parser')           \n",
        "\n",
        "    title = soup.find('h3', class_='petitionsView_title')\n",
        "    count = soup.find('span', class_='counter')           \n",
        "\n",
        "    for content in soup.select('div.petitionsView_write > div.View_write'):\n",
        "        content                                         \n",
        "\n",
        "    a=[]\n",
        "    for tag in soup.select('ul.petitionsView_info_list > li'): \n",
        "        a.append(tag.contents[1])\n",
        "\n",
        "    if len(a) != 0:\n",
        "        df1=pd.DataFrame({ 'start' : [a[1]],                \n",
        "                           'end' : [a[2]],                     \n",
        "                           'category' :  [a[0]],               \n",
        "                           'count' : [count.text],             \n",
        "                           'title': [title.text],              \n",
        "                           'content': [content.text.strip()[0:13000]]                              \n",
        "                         })\n",
        "\n",
        "        result=pd.concat([result, df1])                        \n",
        "        result.index = np.arange(len(result))             \n",
        "\n",
        "    if i % 60 == 0:                                        \n",
        "        print(\"Sleep 90seconds. Count:\" + str(i)           \n",
        "              +\",  Local Time:\"+ time.strftime('%Y-%m-%d', time.localtime(time.time()))\n",
        "              +\" \"+ time.strftime('%X', time.localtime(time.time()))\n",
        "              +\",  Data Length:\"+ str(len(result)))        \n",
        "        time.sleep(90) "
      ]
    },
    {
      "cell_type": "markdown",
      "source": [
        "Ahㅏ 크롤링만 25분 했는데 속 터져서 Colab으로 못하겠음.. 주피터로 넘어가서 다시 해봐야겠다...."
      ],
      "metadata": {
        "id": "zjsvY5YHvkhV"
      }
    },
    {
      "cell_type": "code",
      "source": [
        "# 크롤링 데이터 확인\n",
        "print(result.shape)\n",
        "\n",
        "df = result\n",
        "df.head()"
      ],
      "metadata": {
        "id": "G0gTweezrRor"
      },
      "execution_count": null,
      "outputs": []
    },
    {
      "cell_type": "code",
      "source": [
        "# 데이터 엑셀로 저장\n",
        "df.to_csv('data/crawling.csv', index = False, encoding = 'utf-8-sig')"
      ],
      "metadata": {
        "id": "M_6rrpSBrTjw"
      },
      "execution_count": null,
      "outputs": []
    },
    {
      "cell_type": "markdown",
      "source": [
        "## 데이터 전처리"
      ],
      "metadata": {
        "id": "xJd1lVCQrMKA"
      }
    },
    {
      "cell_type": "code",
      "source": [
        "df.loc[1]['content']  # 전처리 전, 크롤링 직후인 현재 시점에서 국민청원 글 일부를 잠시 살펴보자."
      ],
      "metadata": {
        "id": "DcG57VwrrO99"
      },
      "execution_count": null,
      "outputs": []
    },
    {
      "cell_type": "code",
      "source": [
        "# 전처리\n",
        "import re\n",
        "\n",
        "def remove_white_space(text):\n",
        "    text = re.sub(r'[\\t\\r\\n\\f\\v]', ' ', str(text))\n",
        "    return text\n",
        "\n",
        "def remove_special_char(text):\n",
        "    text = re.sub('[^ ㄱ-ㅣ가-힣 0-9]+', ' ', str(text))\n",
        "    return text\n",
        "\n",
        "df.title = df.title.apply(remove_white_space)\n",
        "df.title = df.title.apply(remove_special_char)\n",
        "\n",
        "df.content = df.content.apply(remove_white_space)\n",
        "df.content = df.content.apply(remove_special_char)"
      ],
      "metadata": {
        "id": "dSW9uBn-reXf"
      },
      "execution_count": null,
      "outputs": []
    }
  ]
}